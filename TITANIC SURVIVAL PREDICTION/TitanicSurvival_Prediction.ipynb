{
  "nbformat": 4,
  "nbformat_minor": 0,
  "metadata": {
    "colab": {
      "provenance": [],
      "toc_visible": true
    },
    "kernelspec": {
      "name": "python3",
      "display_name": "Python 3"
    },
    "language_info": {
      "name": "python"
    }
  },
  "cells": [
    {
      "cell_type": "markdown",
      "source": [
        "# **TITANIC Data Classification Problem**"
      ],
      "metadata": {
        "id": "-CQucrYpqW_a"
      }
    },
    {
      "cell_type": "markdown",
      "source": [
        "The Titanic dataset is one of the most well-known datasets in the machine learning community. It is often used for teaching data science and machine learning techniques due to its simplicity and historical significance. The dataset contains information about passengers on the Titanic, which sank after hitting an iceberg during its maiden voyage in 1912. The main goal when working with the Titanic dataset is to predict whether a passenger survived or not based on various features.\n",
        "\n",
        "### Problem Statement\n",
        "\n",
        "The primary task with the Titanic dataset is a binary classification problem. Given the features of the passengers, the goal is to predict whether each passenger survived (Survival = 1) or not (Survival = 0).\n",
        "\n",
        "### Features in the Dataset\n",
        "\n",
        "The dataset typically includes the following features:\n",
        "\n",
        "1. **PassengerId**: Unique identifier for each passenger.\n",
        "2. **Survived**: Survival status (0 = No, 1 = Yes) - this is the target variable.\n",
        "3. **Pclass**: Passenger class (1 = 1st, 2 = 2nd, 3 = 3rd).\n",
        "4. **Name**: Name of the passenger.\n",
        "5. **Sex**: Gender of the passenger.\n",
        "6. **Age**: Age of the passenger.\n",
        "7. **SibSp**: Number of siblings or spouses aboard the Titanic.\n",
        "8. **Parch**: Number of parents or children aboard the Titanic.\n",
        "9. **Ticket**: Ticket number.\n",
        "10. **Fare**: Fare paid for the ticket.\n",
        "11. **Cabin**: Cabin number.\n",
        "12. **Embarked**: Port of embarkation (C = Cherbourg, Q = Queenstown, S = Southampton)."
      ],
      "metadata": {
        "id": "cVeb9Uj8qhcL"
      }
    },
    {
      "cell_type": "markdown",
      "source": [
        "## Importing Data"
      ],
      "metadata": {
        "id": "Bc113JFIshqU"
      }
    },
    {
      "cell_type": "code",
      "execution_count": 1,
      "metadata": {
        "colab": {
          "base_uri": "https://localhost:8080/"
        },
        "id": "yKdF1sFxedz3",
        "outputId": "69cc70b6-d733-4df8-c794-a013fb1aebba"
      },
      "outputs": [
        {
          "output_type": "execute_result",
          "data": {
            "text/plain": [
              "((623, 12), (268, 12))"
            ]
          },
          "metadata": {},
          "execution_count": 1
        }
      ],
      "source": [
        "import numpy as np\n",
        "import pandas as pd\n",
        "from sklearn.model_selection import train_test_split\n",
        "\n",
        "#loading dataset\n",
        "data = pd.read_csv('https://raw.githubusercontent.com/PavankumarPandya14/CODSOFT/main/TITANIC%20SURVIVAL%20PREDICTION/DATASET/Titanic-Dataset.csv')\n",
        "\n",
        "train_data, test_data = train_test_split(data, test_size=0.3, random_state=42)\n",
        "\n",
        "# Display the shape of the array to confirm\n",
        "train_data.shape, test_data.shape"
      ]
    },
    {
      "cell_type": "markdown",
      "source": [
        "The test data has been loaded into a NumPy array. It consists of 268 rows and 12 columns. This indicates 268 passengers in the test set with 12 features each.\n",
        "\n",
        "Now that we have both datasets loaded, we can move on to next step, Exploring the data and writing insights. This involves analyzing the features, checking for missing values, understanding the distribution of different variables, etc.\n",
        "\n",
        "Since we are working with numerical arrays, we'll need to remember the column indices for each feature. Alternatively, we can switch back to using the DataFrame format for easier data exploration and processing. DataFrames allow for more intuitive operations when dealing with tabular data."
      ],
      "metadata": {
        "id": "K9TeOLNbfeb0"
      }
    },
    {
      "cell_type": "markdown",
      "source": [
        "# Steps to solve the problem"
      ],
      "metadata": {
        "id": "vZoUSQNhrnvB"
      }
    },
    {
      "cell_type": "markdown",
      "source": [
        "## Exploring the Data"
      ],
      "metadata": {
        "id": "ZrJ99znssmnm"
      }
    },
    {
      "cell_type": "code",
      "source": [
        "train_data.isna().sum()"
      ],
      "metadata": {
        "colab": {
          "base_uri": "https://localhost:8080/"
        },
        "id": "atAUpUY-eh4W",
        "outputId": "1eab2021-f071-4bee-d27f-68d994e9fe1d"
      },
      "execution_count": 2,
      "outputs": [
        {
          "output_type": "execute_result",
          "data": {
            "text/plain": [
              "PassengerId      0\n",
              "Survived         0\n",
              "Pclass           0\n",
              "Name             0\n",
              "Sex              0\n",
              "Age            124\n",
              "SibSp            0\n",
              "Parch            0\n",
              "Ticket           0\n",
              "Fare             0\n",
              "Cabin          484\n",
              "Embarked         1\n",
              "dtype: int64"
            ]
          },
          "metadata": {},
          "execution_count": 2
        }
      ]
    },
    {
      "cell_type": "code",
      "source": [
        "train_data.info()"
      ],
      "metadata": {
        "colab": {
          "base_uri": "https://localhost:8080/"
        },
        "id": "5MUmrMZG0u9s",
        "outputId": "dd0fa9c2-d87b-47de-c829-94a1bd4e5736"
      },
      "execution_count": 3,
      "outputs": [
        {
          "output_type": "stream",
          "name": "stdout",
          "text": [
            "<class 'pandas.core.frame.DataFrame'>\n",
            "Index: 623 entries, 445 to 102\n",
            "Data columns (total 12 columns):\n",
            " #   Column       Non-Null Count  Dtype  \n",
            "---  ------       --------------  -----  \n",
            " 0   PassengerId  623 non-null    int64  \n",
            " 1   Survived     623 non-null    int64  \n",
            " 2   Pclass       623 non-null    int64  \n",
            " 3   Name         623 non-null    object \n",
            " 4   Sex          623 non-null    object \n",
            " 5   Age          499 non-null    float64\n",
            " 6   SibSp        623 non-null    int64  \n",
            " 7   Parch        623 non-null    int64  \n",
            " 8   Ticket       623 non-null    object \n",
            " 9   Fare         623 non-null    float64\n",
            " 10  Cabin        139 non-null    object \n",
            " 11  Embarked     622 non-null    object \n",
            "dtypes: float64(2), int64(5), object(5)\n",
            "memory usage: 63.3+ KB\n"
          ]
        }
      ]
    },
    {
      "cell_type": "code",
      "source": [
        "train_data.describe()"
      ],
      "metadata": {
        "colab": {
          "base_uri": "https://localhost:8080/",
          "height": 300
        },
        "id": "WLCaKyV7f1o8",
        "outputId": "d119aaec-814a-4284-d244-ce92f88c672f"
      },
      "execution_count": 4,
      "outputs": [
        {
          "output_type": "execute_result",
          "data": {
            "text/plain": [
              "       PassengerId    Survived      Pclass         Age       SibSp  \\\n",
              "count   623.000000  623.000000  623.000000  499.000000  623.000000   \n",
              "mean    446.581059    0.370787    2.341894   29.256353    0.576244   \n",
              "std     260.012799    0.483404    0.819945   14.558567    1.216267   \n",
              "min       1.000000    0.000000    1.000000    0.420000    0.000000   \n",
              "25%     216.000000    0.000000    2.000000   20.000000    0.000000   \n",
              "50%     454.000000    0.000000    3.000000   28.000000    0.000000   \n",
              "75%     675.500000    1.000000    3.000000   38.000000    1.000000   \n",
              "max     891.000000    1.000000    3.000000   80.000000    8.000000   \n",
              "\n",
              "            Parch        Fare  \n",
              "count  623.000000  623.000000  \n",
              "mean     0.386838   31.840730  \n",
              "std      0.807692   51.027372  \n",
              "min      0.000000    0.000000  \n",
              "25%      0.000000    7.925000  \n",
              "50%      0.000000   14.454200  \n",
              "75%      0.000000   30.750000  \n",
              "max      6.000000  512.329200  "
            ],
            "text/html": [
              "\n",
              "  <div id=\"df-0c4ae010-e0c8-47e6-aa0e-3e9a6ed5bebf\" class=\"colab-df-container\">\n",
              "    <div>\n",
              "<style scoped>\n",
              "    .dataframe tbody tr th:only-of-type {\n",
              "        vertical-align: middle;\n",
              "    }\n",
              "\n",
              "    .dataframe tbody tr th {\n",
              "        vertical-align: top;\n",
              "    }\n",
              "\n",
              "    .dataframe thead th {\n",
              "        text-align: right;\n",
              "    }\n",
              "</style>\n",
              "<table border=\"1\" class=\"dataframe\">\n",
              "  <thead>\n",
              "    <tr style=\"text-align: right;\">\n",
              "      <th></th>\n",
              "      <th>PassengerId</th>\n",
              "      <th>Survived</th>\n",
              "      <th>Pclass</th>\n",
              "      <th>Age</th>\n",
              "      <th>SibSp</th>\n",
              "      <th>Parch</th>\n",
              "      <th>Fare</th>\n",
              "    </tr>\n",
              "  </thead>\n",
              "  <tbody>\n",
              "    <tr>\n",
              "      <th>count</th>\n",
              "      <td>623.000000</td>\n",
              "      <td>623.000000</td>\n",
              "      <td>623.000000</td>\n",
              "      <td>499.000000</td>\n",
              "      <td>623.000000</td>\n",
              "      <td>623.000000</td>\n",
              "      <td>623.000000</td>\n",
              "    </tr>\n",
              "    <tr>\n",
              "      <th>mean</th>\n",
              "      <td>446.581059</td>\n",
              "      <td>0.370787</td>\n",
              "      <td>2.341894</td>\n",
              "      <td>29.256353</td>\n",
              "      <td>0.576244</td>\n",
              "      <td>0.386838</td>\n",
              "      <td>31.840730</td>\n",
              "    </tr>\n",
              "    <tr>\n",
              "      <th>std</th>\n",
              "      <td>260.012799</td>\n",
              "      <td>0.483404</td>\n",
              "      <td>0.819945</td>\n",
              "      <td>14.558567</td>\n",
              "      <td>1.216267</td>\n",
              "      <td>0.807692</td>\n",
              "      <td>51.027372</td>\n",
              "    </tr>\n",
              "    <tr>\n",
              "      <th>min</th>\n",
              "      <td>1.000000</td>\n",
              "      <td>0.000000</td>\n",
              "      <td>1.000000</td>\n",
              "      <td>0.420000</td>\n",
              "      <td>0.000000</td>\n",
              "      <td>0.000000</td>\n",
              "      <td>0.000000</td>\n",
              "    </tr>\n",
              "    <tr>\n",
              "      <th>25%</th>\n",
              "      <td>216.000000</td>\n",
              "      <td>0.000000</td>\n",
              "      <td>2.000000</td>\n",
              "      <td>20.000000</td>\n",
              "      <td>0.000000</td>\n",
              "      <td>0.000000</td>\n",
              "      <td>7.925000</td>\n",
              "    </tr>\n",
              "    <tr>\n",
              "      <th>50%</th>\n",
              "      <td>454.000000</td>\n",
              "      <td>0.000000</td>\n",
              "      <td>3.000000</td>\n",
              "      <td>28.000000</td>\n",
              "      <td>0.000000</td>\n",
              "      <td>0.000000</td>\n",
              "      <td>14.454200</td>\n",
              "    </tr>\n",
              "    <tr>\n",
              "      <th>75%</th>\n",
              "      <td>675.500000</td>\n",
              "      <td>1.000000</td>\n",
              "      <td>3.000000</td>\n",
              "      <td>38.000000</td>\n",
              "      <td>1.000000</td>\n",
              "      <td>0.000000</td>\n",
              "      <td>30.750000</td>\n",
              "    </tr>\n",
              "    <tr>\n",
              "      <th>max</th>\n",
              "      <td>891.000000</td>\n",
              "      <td>1.000000</td>\n",
              "      <td>3.000000</td>\n",
              "      <td>80.000000</td>\n",
              "      <td>8.000000</td>\n",
              "      <td>6.000000</td>\n",
              "      <td>512.329200</td>\n",
              "    </tr>\n",
              "  </tbody>\n",
              "</table>\n",
              "</div>\n",
              "    <div class=\"colab-df-buttons\">\n",
              "\n",
              "  <div class=\"colab-df-container\">\n",
              "    <button class=\"colab-df-convert\" onclick=\"convertToInteractive('df-0c4ae010-e0c8-47e6-aa0e-3e9a6ed5bebf')\"\n",
              "            title=\"Convert this dataframe to an interactive table.\"\n",
              "            style=\"display:none;\">\n",
              "\n",
              "  <svg xmlns=\"http://www.w3.org/2000/svg\" height=\"24px\" viewBox=\"0 -960 960 960\">\n",
              "    <path d=\"M120-120v-720h720v720H120Zm60-500h600v-160H180v160Zm220 220h160v-160H400v160Zm0 220h160v-160H400v160ZM180-400h160v-160H180v160Zm440 0h160v-160H620v160ZM180-180h160v-160H180v160Zm440 0h160v-160H620v160Z\"/>\n",
              "  </svg>\n",
              "    </button>\n",
              "\n",
              "  <style>\n",
              "    .colab-df-container {\n",
              "      display:flex;\n",
              "      gap: 12px;\n",
              "    }\n",
              "\n",
              "    .colab-df-convert {\n",
              "      background-color: #E8F0FE;\n",
              "      border: none;\n",
              "      border-radius: 50%;\n",
              "      cursor: pointer;\n",
              "      display: none;\n",
              "      fill: #1967D2;\n",
              "      height: 32px;\n",
              "      padding: 0 0 0 0;\n",
              "      width: 32px;\n",
              "    }\n",
              "\n",
              "    .colab-df-convert:hover {\n",
              "      background-color: #E2EBFA;\n",
              "      box-shadow: 0px 1px 2px rgba(60, 64, 67, 0.3), 0px 1px 3px 1px rgba(60, 64, 67, 0.15);\n",
              "      fill: #174EA6;\n",
              "    }\n",
              "\n",
              "    .colab-df-buttons div {\n",
              "      margin-bottom: 4px;\n",
              "    }\n",
              "\n",
              "    [theme=dark] .colab-df-convert {\n",
              "      background-color: #3B4455;\n",
              "      fill: #D2E3FC;\n",
              "    }\n",
              "\n",
              "    [theme=dark] .colab-df-convert:hover {\n",
              "      background-color: #434B5C;\n",
              "      box-shadow: 0px 1px 3px 1px rgba(0, 0, 0, 0.15);\n",
              "      filter: drop-shadow(0px 1px 2px rgba(0, 0, 0, 0.3));\n",
              "      fill: #FFFFFF;\n",
              "    }\n",
              "  </style>\n",
              "\n",
              "    <script>\n",
              "      const buttonEl =\n",
              "        document.querySelector('#df-0c4ae010-e0c8-47e6-aa0e-3e9a6ed5bebf button.colab-df-convert');\n",
              "      buttonEl.style.display =\n",
              "        google.colab.kernel.accessAllowed ? 'block' : 'none';\n",
              "\n",
              "      async function convertToInteractive(key) {\n",
              "        const element = document.querySelector('#df-0c4ae010-e0c8-47e6-aa0e-3e9a6ed5bebf');\n",
              "        const dataTable =\n",
              "          await google.colab.kernel.invokeFunction('convertToInteractive',\n",
              "                                                    [key], {});\n",
              "        if (!dataTable) return;\n",
              "\n",
              "        const docLinkHtml = 'Like what you see? Visit the ' +\n",
              "          '<a target=\"_blank\" href=https://colab.research.google.com/notebooks/data_table.ipynb>data table notebook</a>'\n",
              "          + ' to learn more about interactive tables.';\n",
              "        element.innerHTML = '';\n",
              "        dataTable['output_type'] = 'display_data';\n",
              "        await google.colab.output.renderOutput(dataTable, element);\n",
              "        const docLink = document.createElement('div');\n",
              "        docLink.innerHTML = docLinkHtml;\n",
              "        element.appendChild(docLink);\n",
              "      }\n",
              "    </script>\n",
              "  </div>\n",
              "\n",
              "\n",
              "<div id=\"df-7c20be74-d697-46d9-b78a-e5e13b955828\">\n",
              "  <button class=\"colab-df-quickchart\" onclick=\"quickchart('df-7c20be74-d697-46d9-b78a-e5e13b955828')\"\n",
              "            title=\"Suggest charts\"\n",
              "            style=\"display:none;\">\n",
              "\n",
              "<svg xmlns=\"http://www.w3.org/2000/svg\" height=\"24px\"viewBox=\"0 0 24 24\"\n",
              "     width=\"24px\">\n",
              "    <g>\n",
              "        <path d=\"M19 3H5c-1.1 0-2 .9-2 2v14c0 1.1.9 2 2 2h14c1.1 0 2-.9 2-2V5c0-1.1-.9-2-2-2zM9 17H7v-7h2v7zm4 0h-2V7h2v10zm4 0h-2v-4h2v4z\"/>\n",
              "    </g>\n",
              "</svg>\n",
              "  </button>\n",
              "\n",
              "<style>\n",
              "  .colab-df-quickchart {\n",
              "      --bg-color: #E8F0FE;\n",
              "      --fill-color: #1967D2;\n",
              "      --hover-bg-color: #E2EBFA;\n",
              "      --hover-fill-color: #174EA6;\n",
              "      --disabled-fill-color: #AAA;\n",
              "      --disabled-bg-color: #DDD;\n",
              "  }\n",
              "\n",
              "  [theme=dark] .colab-df-quickchart {\n",
              "      --bg-color: #3B4455;\n",
              "      --fill-color: #D2E3FC;\n",
              "      --hover-bg-color: #434B5C;\n",
              "      --hover-fill-color: #FFFFFF;\n",
              "      --disabled-bg-color: #3B4455;\n",
              "      --disabled-fill-color: #666;\n",
              "  }\n",
              "\n",
              "  .colab-df-quickchart {\n",
              "    background-color: var(--bg-color);\n",
              "    border: none;\n",
              "    border-radius: 50%;\n",
              "    cursor: pointer;\n",
              "    display: none;\n",
              "    fill: var(--fill-color);\n",
              "    height: 32px;\n",
              "    padding: 0;\n",
              "    width: 32px;\n",
              "  }\n",
              "\n",
              "  .colab-df-quickchart:hover {\n",
              "    background-color: var(--hover-bg-color);\n",
              "    box-shadow: 0 1px 2px rgba(60, 64, 67, 0.3), 0 1px 3px 1px rgba(60, 64, 67, 0.15);\n",
              "    fill: var(--button-hover-fill-color);\n",
              "  }\n",
              "\n",
              "  .colab-df-quickchart-complete:disabled,\n",
              "  .colab-df-quickchart-complete:disabled:hover {\n",
              "    background-color: var(--disabled-bg-color);\n",
              "    fill: var(--disabled-fill-color);\n",
              "    box-shadow: none;\n",
              "  }\n",
              "\n",
              "  .colab-df-spinner {\n",
              "    border: 2px solid var(--fill-color);\n",
              "    border-color: transparent;\n",
              "    border-bottom-color: var(--fill-color);\n",
              "    animation:\n",
              "      spin 1s steps(1) infinite;\n",
              "  }\n",
              "\n",
              "  @keyframes spin {\n",
              "    0% {\n",
              "      border-color: transparent;\n",
              "      border-bottom-color: var(--fill-color);\n",
              "      border-left-color: var(--fill-color);\n",
              "    }\n",
              "    20% {\n",
              "      border-color: transparent;\n",
              "      border-left-color: var(--fill-color);\n",
              "      border-top-color: var(--fill-color);\n",
              "    }\n",
              "    30% {\n",
              "      border-color: transparent;\n",
              "      border-left-color: var(--fill-color);\n",
              "      border-top-color: var(--fill-color);\n",
              "      border-right-color: var(--fill-color);\n",
              "    }\n",
              "    40% {\n",
              "      border-color: transparent;\n",
              "      border-right-color: var(--fill-color);\n",
              "      border-top-color: var(--fill-color);\n",
              "    }\n",
              "    60% {\n",
              "      border-color: transparent;\n",
              "      border-right-color: var(--fill-color);\n",
              "    }\n",
              "    80% {\n",
              "      border-color: transparent;\n",
              "      border-right-color: var(--fill-color);\n",
              "      border-bottom-color: var(--fill-color);\n",
              "    }\n",
              "    90% {\n",
              "      border-color: transparent;\n",
              "      border-bottom-color: var(--fill-color);\n",
              "    }\n",
              "  }\n",
              "</style>\n",
              "\n",
              "  <script>\n",
              "    async function quickchart(key) {\n",
              "      const quickchartButtonEl =\n",
              "        document.querySelector('#' + key + ' button');\n",
              "      quickchartButtonEl.disabled = true;  // To prevent multiple clicks.\n",
              "      quickchartButtonEl.classList.add('colab-df-spinner');\n",
              "      try {\n",
              "        const charts = await google.colab.kernel.invokeFunction(\n",
              "            'suggestCharts', [key], {});\n",
              "      } catch (error) {\n",
              "        console.error('Error during call to suggestCharts:', error);\n",
              "      }\n",
              "      quickchartButtonEl.classList.remove('colab-df-spinner');\n",
              "      quickchartButtonEl.classList.add('colab-df-quickchart-complete');\n",
              "    }\n",
              "    (() => {\n",
              "      let quickchartButtonEl =\n",
              "        document.querySelector('#df-7c20be74-d697-46d9-b78a-e5e13b955828 button');\n",
              "      quickchartButtonEl.style.display =\n",
              "        google.colab.kernel.accessAllowed ? 'block' : 'none';\n",
              "    })();\n",
              "  </script>\n",
              "</div>\n",
              "\n",
              "    </div>\n",
              "  </div>\n"
            ],
            "application/vnd.google.colaboratory.intrinsic+json": {
              "type": "dataframe",
              "summary": "{\n  \"name\": \"train_data\",\n  \"rows\": 8,\n  \"fields\": [\n    {\n      \"column\": \"PassengerId\",\n      \"properties\": {\n        \"dtype\": \"number\",\n        \"std\": 284.7567192500064,\n        \"min\": 1.0,\n        \"max\": 891.0,\n        \"num_unique_values\": 8,\n        \"samples\": [\n          446.58105939004815,\n          454.0,\n          623.0\n        ],\n        \"semantic_type\": \"\",\n        \"description\": \"\"\n      }\n    },\n    {\n      \"column\": \"Survived\",\n      \"properties\": {\n        \"dtype\": \"number\",\n        \"std\": 220.11999576964197,\n        \"min\": 0.0,\n        \"max\": 623.0,\n        \"num_unique_values\": 5,\n        \"samples\": [\n          0.3707865168539326,\n          1.0,\n          0.48340351921584074\n        ],\n        \"semantic_type\": \"\",\n        \"description\": \"\"\n      }\n    },\n    {\n      \"column\": \"Pclass\",\n      \"properties\": {\n        \"dtype\": \"number\",\n        \"std\": 219.49970393533212,\n        \"min\": 0.81994487012546,\n        \"max\": 623.0,\n        \"num_unique_values\": 6,\n        \"samples\": [\n          623.0,\n          2.3418940609951844,\n          3.0\n        ],\n        \"semantic_type\": \"\",\n        \"description\": \"\"\n      }\n    },\n    {\n      \"column\": \"Age\",\n      \"properties\": {\n        \"dtype\": \"number\",\n        \"std\": 167.4260139336962,\n        \"min\": 0.42,\n        \"max\": 499.0,\n        \"num_unique_values\": 8,\n        \"samples\": [\n          29.256352705410823,\n          28.0,\n          499.0\n        ],\n        \"semantic_type\": \"\",\n        \"description\": \"\"\n      }\n    },\n    {\n      \"column\": \"SibSp\",\n      \"properties\": {\n        \"dtype\": \"number\",\n        \"std\": 219.73496793864877,\n        \"min\": 0.0,\n        \"max\": 623.0,\n        \"num_unique_values\": 6,\n        \"samples\": [\n          623.0,\n          0.5762439807383628,\n          8.0\n        ],\n        \"semantic_type\": \"\",\n        \"description\": \"\"\n      }\n    },\n    {\n      \"column\": \"Parch\",\n      \"properties\": {\n        \"dtype\": \"number\",\n        \"std\": 219.90993571844433,\n        \"min\": 0.0,\n        \"max\": 623.0,\n        \"num_unique_values\": 5,\n        \"samples\": [\n          0.3868378812199037,\n          6.0,\n          0.8076921895327202\n        ],\n        \"semantic_type\": \"\",\n        \"description\": \"\"\n      }\n    },\n    {\n      \"column\": \"Fare\",\n      \"properties\": {\n        \"dtype\": \"number\",\n        \"std\": 254.50547056489748,\n        \"min\": 0.0,\n        \"max\": 623.0,\n        \"num_unique_values\": 8,\n        \"samples\": [\n          31.840729534510434,\n          14.4542,\n          623.0\n        ],\n        \"semantic_type\": \"\",\n        \"description\": \"\"\n      }\n    }\n  ]\n}"
            }
          },
          "metadata": {},
          "execution_count": 4
        }
      ]
    },
    {
      "cell_type": "markdown",
      "source": [
        "**Missing Values:**\n",
        "\n",
        "**Age**: 124 missing values.\n",
        "\n",
        "**Cabin**: 484 missing values.\n",
        "\n",
        "**Embarked**: 1 missing values.\n",
        "\n",
        "\n",
        "\n",
        "**Summary Statistics for Numerical Features**\n",
        "\n",
        "\n",
        "**PassengerId**: Ranges from 1 to 891 (as expected for 891 passengers).\n",
        "\n",
        "**Survived**: About 37.08% of passengers in the training set survived.\n",
        "\n",
        "**Pclass**: More passengers are in the 3rd class.\n",
        "\n",
        "**Age**: The average age is approximately 29.3 years, with a wide range from 0.42 to 80 years.\n",
        "\n",
        "**SibSp and Parch**: Majority of passengers do not have siblings/spouses or parents/children aboard.\n",
        "\n",
        "**Fare**: Wide range in fares, indicating variation in passenger class and other factors.\n",
        "\n",
        "The significant number of missing values in Age and Cabin needs to be addressed during data preprocessing. Embarked has a minimal number of missing values, which can be easily handled.\n",
        "\n",
        "Next steps involve further exploration, such as analyzing categorical features, and understanding relationships between different features and survival."
      ],
      "metadata": {
        "id": "Af50Wg0-gb2w"
      }
    },
    {
      "cell_type": "code",
      "source": [
        "import matplotlib.pyplot as plt\n",
        "import seaborn as sns\n",
        "\n",
        "sns.countplot(x='Survived', data=train_data)\n",
        "plt.title('Distribution of Survival')\n",
        "plt.show()"
      ],
      "metadata": {
        "colab": {
          "base_uri": "https://localhost:8080/",
          "height": 472
        },
        "id": "1XqpF6llNkAz",
        "outputId": "71e288b9-050b-4114-9cf7-61de8f2b34ec"
      },
      "execution_count": 5,
      "outputs": [
        {
          "output_type": "display_data",
          "data": {
            "text/plain": [
              "<Figure size 640x480 with 1 Axes>"
            ],
            "image/png": "[encoded data removed]"
          },
          "metadata": {}
        }
      ]
    },
    {
      "cell_type": "code",
      "source": [
        "import matplotlib.pyplot as plt\n",
        "import seaborn as sns\n",
        "\n",
        "# Set the aesthetic style of the plots\n",
        "sns.set()\n",
        "\n",
        "# Create a figure with subplots\n",
        "fig, axes = plt.subplots(3, 2, figsize=(12, 15))\n",
        "\n",
        "# Distribution of passengers by Sex\n",
        "sns.countplot(x='Sex', data=train_data, ax=axes[0, 0])\n",
        "axes[0, 0].set_title('Distribution by Sex')\n",
        "\n",
        "# Survival rate by Sex\n",
        "sns.barplot(x='Sex', y='Survived', data=train_data, ax=axes[0, 1])\n",
        "axes[0, 1].set_title('Survival Rate by Sex')\n",
        "\n",
        "# Distribution of passengers by Pclass\n",
        "sns.countplot(x='Pclass', data=train_data, ax=axes[1, 0])\n",
        "axes[1, 0].set_title('Distribution by Pclass')\n",
        "\n",
        "# Survival rate by Pclass\n",
        "sns.barplot(x='Pclass', y='Survived', data=train_data, ax=axes[1, 1])\n",
        "axes[1, 1].set_title('Survival Rate by Pclass')\n",
        "\n",
        "# Distribution of passengers by Embarked\n",
        "sns.countplot(x='Embarked', data=train_data, ax=axes[2, 0])\n",
        "axes[2, 0].set_title('Distribution by Embarkation Port')\n",
        "\n",
        "# Survival rate by Embarked\n",
        "sns.barplot(x='Embarked', y='Survived', data=train_data, ax=axes[2, 1])\n",
        "axes[2, 1].set_title('Survival Rate by Embarkation Port')\n",
        "\n",
        "# Display the plots\n",
        "plt.tight_layout()\n",
        "plt.show()"
      ],
      "metadata": {
        "colab": {
          "base_uri": "https://localhost:8080/",
          "height": 1000
        },
        "id": "A415-lcmgKen",
        "outputId": "d8ad9057-36a3-49f0-8085-93863c0af063"
      },
      "execution_count": 6,
      "outputs": [
        {
          "output_type": "display_data",
          "data": {
            "text/plain": [
              "<Figure size 1200x1500 with 6 Axes>"
            ],
            "image/png": "[encoded data removed]"
          },
          "metadata": {}
        }
      ]
    },
    {
      "cell_type": "markdown",
      "source": [
        "The visualizations provide a clear representation of the distributions and survival rates based on the categorical features:\n",
        "\n",
        "Distribution by Sex and Survival Rate by Sex:\n",
        "\n",
        "The first row of plots shows the distribution of passengers by sex and the corresponding survival rates.\n",
        "It appears that there were more males than females on board, but females had a higher survival rate.\n",
        "Distribution by Pclass and Survival Rate by Pclass:\n",
        "\n",
        "The second row shows the distribution of passengers by class (Pclass) and the survival rates per class.\n",
        "Most passengers were in the 3rd class. The survival rate was higher for passengers in the higher classes (1st and 2nd).\n",
        "Distribution by Embarkation Port and Survival Rate by Embarkation Port:\n",
        "\n",
        "The last row shows the distribution of passengers by their embarkation port and their survival rates.\n",
        "The majority of passengers embarked from Southampton. The survival rate varied by embarkation port, with passengers embarked from Cherbourg having a higher survival rate.\n",
        "These insights are crucial for understanding the factors that influenced survival on the Titanic. Next, we can move on to preparing the data for machine learning algorithms, which involves handling missing values, encoding categorical variables, and feature scaling."
      ],
      "metadata": {
        "id": "66J_5gx7lfvf"
      }
    },
    {
      "cell_type": "markdown",
      "source": [
        "## Preparing Data to better Explore Patterns"
      ],
      "metadata": {
        "id": "Y82bGjdmtiRw"
      }
    },
    {
      "cell_type": "code",
      "source": [
        "# Dropping the 'Cabin' column\n",
        "train_data = train_data.drop(columns=['Cabin','Name','Ticket'])\n",
        "\n",
        "# Filling missing values in 'Age' with the median age\n",
        "train_data['Age'].fillna(train_data['Age'].median(), inplace=True)\n",
        "\n",
        "# Filling missing values in 'Embarked' with the mode\n",
        "train_data['Embarked'].fillna(train_data['Embarked'].mode()[0], inplace=True)\n",
        "\n",
        "# Checking if there are any more missing values\n",
        "train_data.isnull().sum()"
      ],
      "metadata": {
        "colab": {
          "base_uri": "https://localhost:8080/"
        },
        "id": "nD4qIJbPlGC-",
        "outputId": "3febb53e-2434-41ab-a44e-77413b40cf81"
      },
      "execution_count": 7,
      "outputs": [
        {
          "output_type": "execute_result",
          "data": {
            "text/plain": [
              "PassengerId    0\n",
              "Survived       0\n",
              "Pclass         0\n",
              "Sex            0\n",
              "Age            0\n",
              "SibSp          0\n",
              "Parch          0\n",
              "Fare           0\n",
              "Embarked       0\n",
              "dtype: int64"
            ]
          },
          "metadata": {},
          "execution_count": 7
        }
      ]
    },
    {
      "cell_type": "markdown",
      "source": [
        "The missing values have been successfully handled:\n",
        "\n",
        "The 'Cabin' column has been dropped.\n",
        "Missing values in the 'Age' column have been filled with the median age.\n",
        "Missing values in the 'Embarked' column have been filled with the most frequent value (mode).\n",
        "Next, we'll move on to feature engineering, encoding categorical variables, and feature scaling.\n",
        "\n",
        "Feature Engineering: We can create new features like 'FamilySize' from 'SibSp' (siblings/spouse aboard) and 'Parch' (parents/children aboard).\n",
        "Encode Categorical Variables: Convert 'Sex' and 'Embarked' into numerical values.\n",
        "Feature Scaling: Apply scaling to continuous features like 'Age' and 'Fare'."
      ],
      "metadata": {
        "id": "hEP8jOTkl45o"
      }
    },
    {
      "cell_type": "code",
      "source": [
        "# Feature Engineering\n",
        "train_data['FamilySize'] = train_data['SibSp'] + train_data['Parch'] + 1\n",
        "\n",
        "# Encoding categorical variables\n",
        "train_data['Sex'] = train_data['Sex'].map({'male': 0, 'female': 1})\n",
        "train_data['Embarked'] = train_data['Embarked'].map({'S': 0, 'C': 1, 'Q': 2})\n",
        "\n",
        "# Feature Scaling for 'Age' and 'Fare'\n",
        "from sklearn.preprocessing import StandardScaler\n",
        "scaler = StandardScaler()\n",
        "train_data[['Age', 'Fare']] = scaler.fit_transform(train_data[['Age', 'Fare']])\n",
        "\n",
        "# Checking the modified dataframe\n",
        "train_data.head()"
      ],
      "metadata": {
        "colab": {
          "base_uri": "https://localhost:8080/",
          "height": 206
        },
        "id": "BBAtAA1Qlno5",
        "outputId": "0f7313f5-5598-49b1-d1d9-7f5c125f6496"
      },
      "execution_count": 8,
      "outputs": [
        {
          "output_type": "execute_result",
          "data": {
            "text/plain": [
              "     PassengerId  Survived  Pclass  Sex       Age  SibSp  Parch      Fare  \\\n",
              "445          446         1       1    0 -1.919719      0      2  0.980998   \n",
              "650          651         0       3    0 -0.077252      0      0 -0.469634   \n",
              "172          173         1       3    1 -2.150028      1      1 -0.406136   \n",
              "450          451         0       2    0  0.536903      1      2 -0.080232   \n",
              "314          315         0       2    0  1.074289      1      1 -0.109651   \n",
              "\n",
              "     Embarked  FamilySize  \n",
              "445         0           3  \n",
              "650         0           1  \n",
              "172         0           3  \n",
              "450         0           4  \n",
              "314         0           3  "
            ],
            "text/html": [
              "\n",
              "  <div id=\"df-3e77f2f6-2350-4f1a-8b1d-2b4ada8f9ef0\" class=\"colab-df-container\">\n",
              "    <div>\n",
              "<style scoped>\n",
              "    .dataframe tbody tr th:only-of-type {\n",
              "        vertical-align: middle;\n",
              "    }\n",
              "\n",
              "    .dataframe tbody tr th {\n",
              "        vertical-align: top;\n",
              "    }\n",
              "\n",
              "    .dataframe thead th {\n",
              "        text-align: right;\n",
              "    }\n",
              "</style>\n",
              "<table border=\"1\" class=\"dataframe\">\n",
              "  <thead>\n",
              "    <tr style=\"text-align: right;\">\n",
              "      <th></th>\n",
              "      <th>PassengerId</th>\n",
              "      <th>Survived</th>\n",
              "      <th>Pclass</th>\n",
              "      <th>Sex</th>\n",
              "      <th>Age</th>\n",
              "      <th>SibSp</th>\n",
              "      <th>Parch</th>\n",
              "      <th>Fare</th>\n",
              "      <th>Embarked</th>\n",
              "      <th>FamilySize</th>\n",
              "    </tr>\n",
              "  </thead>\n",
              "  <tbody>\n",
              "    <tr>\n",
              "      <th>445</th>\n",
              "      <td>446</td>\n",
              "      <td>1</td>\n",
              "      <td>1</td>\n",
              "      <td>0</td>\n",
              "      <td>-1.919719</td>\n",
              "      <td>0</td>\n",
              "      <td>2</td>\n",
              "      <td>0.980998</td>\n",
              "      <td>0</td>\n",
              "      <td>3</td>\n",
              "    </tr>\n",
              "    <tr>\n",
              "      <th>650</th>\n",
              "      <td>651</td>\n",
              "      <td>0</td>\n",
              "      <td>3</td>\n",
              "      <td>0</td>\n",
              "      <td>-0.077252</td>\n",
              "      <td>0</td>\n",
              "      <td>0</td>\n",
              "      <td>-0.469634</td>\n",
              "      <td>0</td>\n",
              "      <td>1</td>\n",
              "    </tr>\n",
              "    <tr>\n",
              "      <th>172</th>\n",
              "      <td>173</td>\n",
              "      <td>1</td>\n",
              "      <td>3</td>\n",
              "      <td>1</td>\n",
              "      <td>-2.150028</td>\n",
              "      <td>1</td>\n",
              "      <td>1</td>\n",
              "      <td>-0.406136</td>\n",
              "      <td>0</td>\n",
              "      <td>3</td>\n",
              "    </tr>\n",
              "    <tr>\n",
              "      <th>450</th>\n",
              "      <td>451</td>\n",
              "      <td>0</td>\n",
              "      <td>2</td>\n",
              "      <td>0</td>\n",
              "      <td>0.536903</td>\n",
              "      <td>1</td>\n",
              "      <td>2</td>\n",
              "      <td>-0.080232</td>\n",
              "      <td>0</td>\n",
              "      <td>4</td>\n",
              "    </tr>\n",
              "    <tr>\n",
              "      <th>314</th>\n",
              "      <td>315</td>\n",
              "      <td>0</td>\n",
              "      <td>2</td>\n",
              "      <td>0</td>\n",
              "      <td>1.074289</td>\n",
              "      <td>1</td>\n",
              "      <td>1</td>\n",
              "      <td>-0.109651</td>\n",
              "      <td>0</td>\n",
              "      <td>3</td>\n",
              "    </tr>\n",
              "  </tbody>\n",
              "</table>\n",
              "</div>\n",
              "    <div class=\"colab-df-buttons\">\n",
              "\n",
              "  <div class=\"colab-df-container\">\n",
              "    <button class=\"colab-df-convert\" onclick=\"convertToInteractive('df-3e77f2f6-2350-4f1a-8b1d-2b4ada8f9ef0')\"\n",
              "            title=\"Convert this dataframe to an interactive table.\"\n",
              "            style=\"display:none;\">\n",
              "\n",
              "  <svg xmlns=\"http://www.w3.org/2000/svg\" height=\"24px\" viewBox=\"0 -960 960 960\">\n",
              "    <path d=\"M120-120v-720h720v720H120Zm60-500h600v-160H180v160Zm220 220h160v-160H400v160Zm0 220h160v-160H400v160ZM180-400h160v-160H180v160Zm440 0h160v-160H620v160ZM180-180h160v-160H180v160Zm440 0h160v-160H620v160Z\"/>\n",
              "  </svg>\n",
              "    </button>\n",
              "\n",
              "  <style>\n",
              "    .colab-df-container {\n",
              "      display:flex;\n",
              "      gap: 12px;\n",
              "    }\n",
              "\n",
              "    .colab-df-convert {\n",
              "      background-color: #E8F0FE;\n",
              "      border: none;\n",
              "      border-radius: 50%;\n",
              "      cursor: pointer;\n",
              "      display: none;\n",
              "      fill: #1967D2;\n",
              "      height: 32px;\n",
              "      padding: 0 0 0 0;\n",
              "      width: 32px;\n",
              "    }\n",
              "\n",
              "    .colab-df-convert:hover {\n",
              "      background-color: #E2EBFA;\n",
              "      box-shadow: 0px 1px 2px rgba(60, 64, 67, 0.3), 0px 1px 3px 1px rgba(60, 64, 67, 0.15);\n",
              "      fill: #174EA6;\n",
              "    }\n",
              "\n",
              "    .colab-df-buttons div {\n",
              "      margin-bottom: 4px;\n",
              "    }\n",
              "\n",
              "    [theme=dark] .colab-df-convert {\n",
              "      background-color: #3B4455;\n",
              "      fill: #D2E3FC;\n",
              "    }\n",
              "\n",
              "    [theme=dark] .colab-df-convert:hover {\n",
              "      background-color: #434B5C;\n",
              "      box-shadow: 0px 1px 3px 1px rgba(0, 0, 0, 0.15);\n",
              "      filter: drop-shadow(0px 1px 2px rgba(0, 0, 0, 0.3));\n",
              "      fill: #FFFFFF;\n",
              "    }\n",
              "  </style>\n",
              "\n",
              "    <script>\n",
              "      const buttonEl =\n",
              "        document.querySelector('#df-3e77f2f6-2350-4f1a-8b1d-2b4ada8f9ef0 button.colab-df-convert');\n",
              "      buttonEl.style.display =\n",
              "        google.colab.kernel.accessAllowed ? 'block' : 'none';\n",
              "\n",
              "      async function convertToInteractive(key) {\n",
              "        const element = document.querySelector('#df-3e77f2f6-2350-4f1a-8b1d-2b4ada8f9ef0');\n",
              "        const dataTable =\n",
              "          await google.colab.kernel.invokeFunction('convertToInteractive',\n",
              "                                                    [key], {});\n",
              "        if (!dataTable) return;\n",
              "\n",
              "        const docLinkHtml = 'Like what you see? Visit the ' +\n",
              "          '<a target=\"_blank\" href=https://colab.research.google.com/notebooks/data_table.ipynb>data table notebook</a>'\n",
              "          + ' to learn more about interactive tables.';\n",
              "        element.innerHTML = '';\n",
              "        dataTable['output_type'] = 'display_data';\n",
              "        await google.colab.output.renderOutput(dataTable, element);\n",
              "        const docLink = document.createElement('div');\n",
              "        docLink.innerHTML = docLinkHtml;\n",
              "        element.appendChild(docLink);\n",
              "      }\n",
              "    </script>\n",
              "  </div>\n",
              "\n",
              "\n",
              "<div id=\"df-03273e05-d204-4d75-b9fc-7c6127ebd668\">\n",
              "  <button class=\"colab-df-quickchart\" onclick=\"quickchart('df-03273e05-d204-4d75-b9fc-7c6127ebd668')\"\n",
              "            title=\"Suggest charts\"\n",
              "            style=\"display:none;\">\n",
              "\n",
              "<svg xmlns=\"http://www.w3.org/2000/svg\" height=\"24px\"viewBox=\"0 0 24 24\"\n",
              "     width=\"24px\">\n",
              "    <g>\n",
              "        <path d=\"M19 3H5c-1.1 0-2 .9-2 2v14c0 1.1.9 2 2 2h14c1.1 0 2-.9 2-2V5c0-1.1-.9-2-2-2zM9 17H7v-7h2v7zm4 0h-2V7h2v10zm4 0h-2v-4h2v4z\"/>\n",
              "    </g>\n",
              "</svg>\n",
              "  </button>\n",
              "\n",
              "<style>\n",
              "  .colab-df-quickchart {\n",
              "      --bg-color: #E8F0FE;\n",
              "      --fill-color: #1967D2;\n",
              "      --hover-bg-color: #E2EBFA;\n",
              "      --hover-fill-color: #174EA6;\n",
              "      --disabled-fill-color: #AAA;\n",
              "      --disabled-bg-color: #DDD;\n",
              "  }\n",
              "\n",
              "  [theme=dark] .colab-df-quickchart {\n",
              "      --bg-color: #3B4455;\n",
              "      --fill-color: #D2E3FC;\n",
              "      --hover-bg-color: #434B5C;\n",
              "      --hover-fill-color: #FFFFFF;\n",
              "      --disabled-bg-color: #3B4455;\n",
              "      --disabled-fill-color: #666;\n",
              "  }\n",
              "\n",
              "  .colab-df-quickchart {\n",
              "    background-color: var(--bg-color);\n",
              "    border: none;\n",
              "    border-radius: 50%;\n",
              "    cursor: pointer;\n",
              "    display: none;\n",
              "    fill: var(--fill-color);\n",
              "    height: 32px;\n",
              "    padding: 0;\n",
              "    width: 32px;\n",
              "  }\n",
              "\n",
              "  .colab-df-quickchart:hover {\n",
              "    background-color: var(--hover-bg-color);\n",
              "    box-shadow: 0 1px 2px rgba(60, 64, 67, 0.3), 0 1px 3px 1px rgba(60, 64, 67, 0.15);\n",
              "    fill: var(--button-hover-fill-color);\n",
              "  }\n",
              "\n",
              "  .colab-df-quickchart-complete:disabled,\n",
              "  .colab-df-quickchart-complete:disabled:hover {\n",
              "    background-color: var(--disabled-bg-color);\n",
              "    fill: var(--disabled-fill-color);\n",
              "    box-shadow: none;\n",
              "  }\n",
              "\n",
              "  .colab-df-spinner {\n",
              "    border: 2px solid var(--fill-color);\n",
              "    border-color: transparent;\n",
              "    border-bottom-color: var(--fill-color);\n",
              "    animation:\n",
              "      spin 1s steps(1) infinite;\n",
              "  }\n",
              "\n",
              "  @keyframes spin {\n",
              "    0% {\n",
              "      border-color: transparent;\n",
              "      border-bottom-color: var(--fill-color);\n",
              "      border-left-color: var(--fill-color);\n",
              "    }\n",
              "    20% {\n",
              "      border-color: transparent;\n",
              "      border-left-color: var(--fill-color);\n",
              "      border-top-color: var(--fill-color);\n",
              "    }\n",
              "    30% {\n",
              "      border-color: transparent;\n",
              "      border-left-color: var(--fill-color);\n",
              "      border-top-color: var(--fill-color);\n",
              "      border-right-color: var(--fill-color);\n",
              "    }\n",
              "    40% {\n",
              "      border-color: transparent;\n",
              "      border-right-color: var(--fill-color);\n",
              "      border-top-color: var(--fill-color);\n",
              "    }\n",
              "    60% {\n",
              "      border-color: transparent;\n",
              "      border-right-color: var(--fill-color);\n",
              "    }\n",
              "    80% {\n",
              "      border-color: transparent;\n",
              "      border-right-color: var(--fill-color);\n",
              "      border-bottom-color: var(--fill-color);\n",
              "    }\n",
              "    90% {\n",
              "      border-color: transparent;\n",
              "      border-bottom-color: var(--fill-color);\n",
              "    }\n",
              "  }\n",
              "</style>\n",
              "\n",
              "  <script>\n",
              "    async function quickchart(key) {\n",
              "      const quickchartButtonEl =\n",
              "        document.querySelector('#' + key + ' button');\n",
              "      quickchartButtonEl.disabled = true;  // To prevent multiple clicks.\n",
              "      quickchartButtonEl.classList.add('colab-df-spinner');\n",
              "      try {\n",
              "        const charts = await google.colab.kernel.invokeFunction(\n",
              "            'suggestCharts', [key], {});\n",
              "      } catch (error) {\n",
              "        console.error('Error during call to suggestCharts:', error);\n",
              "      }\n",
              "      quickchartButtonEl.classList.remove('colab-df-spinner');\n",
              "      quickchartButtonEl.classList.add('colab-df-quickchart-complete');\n",
              "    }\n",
              "    (() => {\n",
              "      let quickchartButtonEl =\n",
              "        document.querySelector('#df-03273e05-d204-4d75-b9fc-7c6127ebd668 button');\n",
              "      quickchartButtonEl.style.display =\n",
              "        google.colab.kernel.accessAllowed ? 'block' : 'none';\n",
              "    })();\n",
              "  </script>\n",
              "</div>\n",
              "\n",
              "    </div>\n",
              "  </div>\n"
            ],
            "application/vnd.google.colaboratory.intrinsic+json": {
              "type": "dataframe",
              "variable_name": "train_data",
              "summary": "{\n  \"name\": \"train_data\",\n  \"rows\": 623,\n  \"fields\": [\n    {\n      \"column\": \"PassengerId\",\n      \"properties\": {\n        \"dtype\": \"number\",\n        \"std\": 260,\n        \"min\": 1,\n        \"max\": 891,\n        \"num_unique_values\": 623,\n        \"samples\": [\n          143,\n          346,\n          189\n        ],\n        \"semantic_type\": \"\",\n        \"description\": \"\"\n      }\n    },\n    {\n      \"column\": \"Survived\",\n      \"properties\": {\n        \"dtype\": \"number\",\n        \"std\": 0,\n        \"min\": 0,\n        \"max\": 1,\n        \"num_unique_values\": 2,\n        \"samples\": [\n          0,\n          1\n        ],\n        \"semantic_type\": \"\",\n        \"description\": \"\"\n      }\n    },\n    {\n      \"column\": \"Pclass\",\n      \"properties\": {\n        \"dtype\": \"number\",\n        \"std\": 0,\n        \"min\": 1,\n        \"max\": 3,\n        \"num_unique_values\": 3,\n        \"samples\": [\n          1,\n          3\n        ],\n        \"semantic_type\": \"\",\n        \"description\": \"\"\n      }\n    },\n    {\n      \"column\": \"Sex\",\n      \"properties\": {\n        \"dtype\": \"number\",\n        \"std\": 0,\n        \"min\": 0,\n        \"max\": 1,\n        \"num_unique_values\": 2,\n        \"samples\": [\n          1,\n          0\n        ],\n        \"semantic_type\": \"\",\n        \"description\": \"\"\n      }\n    },\n    {\n      \"column\": \"Age\",\n      \"properties\": {\n        \"dtype\": \"number\",\n        \"std\": 1.000803535686101,\n        \"min\": -2.194553992598219,\n        \"max\": 3.914759027335906,\n        \"num_unique_values\": 77,\n        \"samples\": [\n          1.0742892894926959,\n          -1.5358720912280914\n        ],\n        \"semantic_type\": \"\",\n        \"description\": \"\"\n      }\n    },\n    {\n      \"column\": \"SibSp\",\n      \"properties\": {\n        \"dtype\": \"number\",\n        \"std\": 1,\n        \"min\": 0,\n        \"max\": 8,\n        \"num_unique_values\": 7,\n        \"samples\": [\n          0,\n          1\n        ],\n        \"semantic_type\": \"\",\n        \"description\": \"\"\n      }\n    },\n    {\n      \"column\": \"Parch\",\n      \"properties\": {\n        \"dtype\": \"number\",\n        \"std\": 0,\n        \"min\": 0,\n        \"max\": 6,\n        \"num_unique_values\": 7,\n        \"samples\": [\n          2,\n          0\n        ],\n        \"semantic_type\": \"\",\n        \"description\": \"\"\n      }\n    },\n    {\n      \"column\": \"Fare\",\n      \"properties\": {\n        \"dtype\": \"number\",\n        \"std\": 1.000803535686101,\n        \"min\": -0.6244945342736339,\n        \"max\": 9.423855168330087,\n        \"num_unique_values\": 207,\n        \"samples\": [\n          2.03569120122253,\n          -0.32940016925318405\n        ],\n        \"semantic_type\": \"\",\n        \"description\": \"\"\n      }\n    },\n    {\n      \"column\": \"Embarked\",\n      \"properties\": {\n        \"dtype\": \"number\",\n        \"std\": 0,\n        \"min\": 0,\n        \"max\": 2,\n        \"num_unique_values\": 3,\n        \"samples\": [\n          0,\n          1\n        ],\n        \"semantic_type\": \"\",\n        \"description\": \"\"\n      }\n    },\n    {\n      \"column\": \"FamilySize\",\n      \"properties\": {\n        \"dtype\": \"number\",\n        \"std\": 1,\n        \"min\": 1,\n        \"max\": 11,\n        \"num_unique_values\": 9,\n        \"samples\": [\n          8,\n          1\n        ],\n        \"semantic_type\": \"\",\n        \"description\": \"\"\n      }\n    }\n  ]\n}"
            }
          },
          "metadata": {},
          "execution_count": 8
        }
      ]
    },
    {
      "cell_type": "markdown",
      "source": [
        "## Exploring data using Logistic Regression and SVC"
      ],
      "metadata": {
        "id": "SQYlYeZMs_FA"
      }
    },
    {
      "cell_type": "code",
      "source": [
        "from sklearn.linear_model import LogisticRegression\n",
        "from sklearn.svm import SVC\n",
        "from sklearn.ensemble import RandomForestClassifier\n",
        "from sklearn.model_selection import cross_val_score\n",
        "\n",
        "# Splitting the data into features and target variable\n",
        "X = train_data.drop(['Survived', 'PassengerId'], axis=1)\n",
        "y = train_data['Survived']\n",
        "\n",
        "# Initialize classifiers\n",
        "log_reg = LogisticRegression(random_state=42)\n",
        "svm_clf = SVC(random_state=42)\n",
        "rf_clf = RandomForestClassifier(random_state=42)"
      ],
      "metadata": {
        "id": "q07BGd1wl65s"
      },
      "execution_count": 9,
      "outputs": []
    },
    {
      "cell_type": "code",
      "source": [
        "# Function to perform cross-validation and print scores\n",
        "def evaluate_model(model, X, y):\n",
        "    scores = cross_val_score(model, X, y, cv=5, scoring='accuracy')\n",
        "    print(f\"Model: {model} \\n Accuracy: {scores.mean():.2f} (+/- {scores.std() * 2:.2f})\\n\")"
      ],
      "metadata": {
        "id": "FQjBcax9nvGK"
      },
      "execution_count": 10,
      "outputs": []
    },
    {
      "cell_type": "code",
      "source": [
        "# Evaluating each model\n",
        "\n",
        "for clf in {log_reg, svm_clf, rf_clf}:\n",
        "  evaluate_model(clf, X, y)"
      ],
      "metadata": {
        "colab": {
          "base_uri": "https://localhost:8080/"
        },
        "id": "TJzMSO6nnzAG",
        "outputId": "d82db98a-212a-42d4-8945-d917d3267d4d"
      },
      "execution_count": 11,
      "outputs": [
        {
          "output_type": "stream",
          "name": "stdout",
          "text": [
            "Model: LogisticRegression(random_state=42) \n",
            " Accuracy: 0.80 (+/- 0.10)\n",
            "\n",
            "Model: SVC(random_state=42) \n",
            " Accuracy: 0.82 (+/- 0.08)\n",
            "\n",
            "Model: RandomForestClassifier(random_state=42) \n",
            " Accuracy: 0.79 (+/- 0.07)\n",
            "\n"
          ]
        }
      ]
    },
    {
      "cell_type": "markdown",
      "source": [
        "We will be performing hyperparameter tuning on Support Vector Classifier because it outperforms other models based on performance"
      ],
      "metadata": {
        "id": "FfblFANvkyh4"
      }
    },
    {
      "cell_type": "markdown",
      "source": [
        "## Finetuning the model"
      ],
      "metadata": {
        "id": "ov_EnOOQtQfA"
      }
    },
    {
      "cell_type": "markdown",
      "source": [
        "### Support Vector Classifier"
      ],
      "metadata": {
        "id": "-zWpymFFZ-c-"
      }
    },
    {
      "cell_type": "code",
      "source": [
        "from sklearn.model_selection import GridSearchCV\n",
        "\n",
        "# Define the parameter grid\n",
        "param_grid = {\n",
        "    'C': [0.1, 1, 10, 100], # Regularization strength\n",
        "    'kernel': ['linear', 'rbf'], # Kernel types\n",
        "    'gamma': ['scale', 'auto']   # Kernel coefficient for 'rbf'\n",
        "}\n",
        "\n",
        "# Setting up Grid Search with cross-validation\n",
        "grid_search_svc = GridSearchCV(svm_clf, param_grid, cv=5, scoring='accuracy')\n",
        "\n",
        "# Performing Grid Search\n",
        "grid_search_svc.fit(X, y)\n",
        "\n",
        "# Best parameters and best score\n",
        "best_params_svc = grid_search_svc.best_params_\n",
        "best_score_svc = grid_search_svc.best_score_\n",
        "\n",
        "best_params_svc, best_score_svc"
      ],
      "metadata": {
        "colab": {
          "base_uri": "https://localhost:8080/"
        },
        "id": "jvNxS0IjpPGf",
        "outputId": "f730c3ff-5f4e-436e-d94f-e0d489011531"
      },
      "execution_count": 12,
      "outputs": [
        {
          "output_type": "execute_result",
          "data": {
            "text/plain": [
              "({'C': 10, 'gamma': 'scale', 'kernel': 'rbf'}, 0.8218322580645163)"
            ]
          },
          "metadata": {},
          "execution_count": 12
        }
      ]
    },
    {
      "cell_type": "markdown",
      "source": [
        "## Saving the model"
      ],
      "metadata": {
        "id": "WsPdzEbSa3oH"
      }
    },
    {
      "cell_type": "code",
      "source": [
        "from joblib import dump, load\n",
        "dump(grid_search_svc, 'model.joblib')"
      ],
      "metadata": {
        "colab": {
          "base_uri": "https://localhost:8080/"
        },
        "id": "_kS-q5-Ca2nX",
        "outputId": "b12dd438-4dd9-4d5a-e043-f4a3feb0b706"
      },
      "execution_count": 13,
      "outputs": [
        {
          "output_type": "execute_result",
          "data": {
            "text/plain": [
              "['model.joblib']"
            ]
          },
          "metadata": {},
          "execution_count": 13
        }
      ]
    },
    {
      "cell_type": "markdown",
      "source": [
        "## Loading the model"
      ],
      "metadata": {
        "id": "ekpiCEYgbBZ9"
      }
    },
    {
      "cell_type": "code",
      "source": [
        "grid_search_svc = load('model.joblib')"
      ],
      "metadata": {
        "id": "hsBwNve6bGj-"
      },
      "execution_count": 14,
      "outputs": []
    },
    {
      "cell_type": "markdown",
      "source": [
        "## Preprocessing the Test data"
      ],
      "metadata": {
        "id": "SqNxGuzqtWuB"
      }
    },
    {
      "cell_type": "code",
      "source": [
        "test_data.drop(columns=['Cabin','Name','Ticket', 'PassengerId'], axis=1, inplace=True) # dropping Cabin and other columns"
      ],
      "metadata": {
        "id": "D5mkxfSv8c_F"
      },
      "execution_count": 15,
      "outputs": []
    },
    {
      "cell_type": "code",
      "source": [
        "test_data.isna().sum()"
      ],
      "metadata": {
        "colab": {
          "base_uri": "https://localhost:8080/"
        },
        "id": "6yE9PauzpxRy",
        "outputId": "04be3e6d-53a1-497f-c4c1-f9ca70d220b1"
      },
      "execution_count": 16,
      "outputs": [
        {
          "output_type": "execute_result",
          "data": {
            "text/plain": [
              "Survived     0\n",
              "Pclass       0\n",
              "Sex          0\n",
              "Age         53\n",
              "SibSp        0\n",
              "Parch        0\n",
              "Fare         0\n",
              "Embarked     1\n",
              "dtype: int64"
            ]
          },
          "metadata": {},
          "execution_count": 16
        }
      ]
    },
    {
      "cell_type": "code",
      "source": [
        "# Filling missing values in 'Age' with the median age\n",
        "test_data['Age'].fillna(test_data['Age'].median(), inplace=True)\n",
        "\n",
        "# Checking if there are any more missing values\n",
        "test_data.isnull().sum()"
      ],
      "metadata": {
        "colab": {
          "base_uri": "https://localhost:8080/"
        },
        "id": "9ijAxlAZrhKQ",
        "outputId": "0ca287e7-20d0-412d-9f7e-b0a8344cf1ae"
      },
      "execution_count": 17,
      "outputs": [
        {
          "output_type": "execute_result",
          "data": {
            "text/plain": [
              "Survived    0\n",
              "Pclass      0\n",
              "Sex         0\n",
              "Age         0\n",
              "SibSp       0\n",
              "Parch       0\n",
              "Fare        0\n",
              "Embarked    1\n",
              "dtype: int64"
            ]
          },
          "metadata": {},
          "execution_count": 17
        }
      ]
    },
    {
      "cell_type": "code",
      "source": [
        "# Dropping missing values in 'Embarked'\n",
        "test_data.dropna(subset=['Embarked'], inplace=True)\n",
        "\n",
        "# Checking if there are any more missing values\n",
        "test_data.isnull().sum()"
      ],
      "metadata": {
        "colab": {
          "base_uri": "https://localhost:8080/"
        },
        "id": "4MgbLcDqDtPm",
        "outputId": "b9ffc15b-1826-4fc1-9042-b277fe3cca80"
      },
      "execution_count": 18,
      "outputs": [
        {
          "output_type": "execute_result",
          "data": {
            "text/plain": [
              "Survived    0\n",
              "Pclass      0\n",
              "Sex         0\n",
              "Age         0\n",
              "SibSp       0\n",
              "Parch       0\n",
              "Fare        0\n",
              "Embarked    0\n",
              "dtype: int64"
            ]
          },
          "metadata": {},
          "execution_count": 18
        }
      ]
    },
    {
      "cell_type": "code",
      "source": [
        "y = test_data['Survived'] # Storing test labels in y\n",
        "test_data.drop(['Survived'], axis=1, inplace=True) # Dropping test labels from test data"
      ],
      "metadata": {
        "id": "4x1qtBrGJai9"
      },
      "execution_count": 19,
      "outputs": []
    },
    {
      "cell_type": "code",
      "source": [
        "# Feature Engineering\n",
        "test_data['FamilySize'] = test_data['SibSp'] + test_data['Parch'] + 1\n",
        "\n",
        "# Encoding categorical variables\n",
        "test_data['Sex'] = test_data['Sex'].map({'male': 0, 'female': 1})\n",
        "test_data['Embarked'] = test_data['Embarked'].map({'S': 0, 'C': 1, 'Q': 2})\n",
        "\n",
        "# Feature Scaling for 'Age' and 'Fare'\n",
        "from sklearn.preprocessing import StandardScaler\n",
        "scaler = StandardScaler()\n",
        "test_data[['Age', 'Fare']] = scaler.fit_transform(test_data[['Age', 'Fare']])\n",
        "\n",
        "# Checking the modified dataframe\n",
        "test_data.head()"
      ],
      "metadata": {
        "colab": {
          "base_uri": "https://localhost:8080/",
          "height": 206
        },
        "id": "kIlVH75rvwKn",
        "outputId": "8fd47666-783b-4275-993b-31a6ea14ac67"
      },
      "execution_count": 20,
      "outputs": [
        {
          "output_type": "execute_result",
          "data": {
            "text/plain": [
              "     Pclass  Sex       Age  SibSp  Parch      Fare  Embarked  FamilySize\n",
              "709       3    0 -0.099021      1      1 -0.379602         1           3\n",
              "439       2    0  0.057305      0      0 -0.481801         0           1\n",
              "840       3    0 -0.802483      0      0 -0.537253         0           1\n",
              "720       2    1 -1.896759      0      1  0.002728         0           2\n",
              "39        3    1 -1.271459      1      0 -0.465829         1           2"
            ],
            "text/html": [
              "\n",
              "  <div id=\"df-3240f152-fe02-4ab6-b298-9c159adf4147\" class=\"colab-df-container\">\n",
              "    <div>\n",
              "<style scoped>\n",
              "    .dataframe tbody tr th:only-of-type {\n",
              "        vertical-align: middle;\n",
              "    }\n",
              "\n",
              "    .dataframe tbody tr th {\n",
              "        vertical-align: top;\n",
              "    }\n",
              "\n",
              "    .dataframe thead th {\n",
              "        text-align: right;\n",
              "    }\n",
              "</style>\n",
              "<table border=\"1\" class=\"dataframe\">\n",
              "  <thead>\n",
              "    <tr style=\"text-align: right;\">\n",
              "      <th></th>\n",
              "      <th>Pclass</th>\n",
              "      <th>Sex</th>\n",
              "      <th>Age</th>\n",
              "      <th>SibSp</th>\n",
              "      <th>Parch</th>\n",
              "      <th>Fare</th>\n",
              "      <th>Embarked</th>\n",
              "      <th>FamilySize</th>\n",
              "    </tr>\n",
              "  </thead>\n",
              "  <tbody>\n",
              "    <tr>\n",
              "      <th>709</th>\n",
              "      <td>3</td>\n",
              "      <td>0</td>\n",
              "      <td>-0.099021</td>\n",
              "      <td>1</td>\n",
              "      <td>1</td>\n",
              "      <td>-0.379602</td>\n",
              "      <td>1</td>\n",
              "      <td>3</td>\n",
              "    </tr>\n",
              "    <tr>\n",
              "      <th>439</th>\n",
              "      <td>2</td>\n",
              "      <td>0</td>\n",
              "      <td>0.057305</td>\n",
              "      <td>0</td>\n",
              "      <td>0</td>\n",
              "      <td>-0.481801</td>\n",
              "      <td>0</td>\n",
              "      <td>1</td>\n",
              "    </tr>\n",
              "    <tr>\n",
              "      <th>840</th>\n",
              "      <td>3</td>\n",
              "      <td>0</td>\n",
              "      <td>-0.802483</td>\n",
              "      <td>0</td>\n",
              "      <td>0</td>\n",
              "      <td>-0.537253</td>\n",
              "      <td>0</td>\n",
              "      <td>1</td>\n",
              "    </tr>\n",
              "    <tr>\n",
              "      <th>720</th>\n",
              "      <td>2</td>\n",
              "      <td>1</td>\n",
              "      <td>-1.896759</td>\n",
              "      <td>0</td>\n",
              "      <td>1</td>\n",
              "      <td>0.002728</td>\n",
              "      <td>0</td>\n",
              "      <td>2</td>\n",
              "    </tr>\n",
              "    <tr>\n",
              "      <th>39</th>\n",
              "      <td>3</td>\n",
              "      <td>1</td>\n",
              "      <td>-1.271459</td>\n",
              "      <td>1</td>\n",
              "      <td>0</td>\n",
              "      <td>-0.465829</td>\n",
              "      <td>1</td>\n",
              "      <td>2</td>\n",
              "    </tr>\n",
              "  </tbody>\n",
              "</table>\n",
              "</div>\n",
              "    <div class=\"colab-df-buttons\">\n",
              "\n",
              "  <div class=\"colab-df-container\">\n",
              "    <button class=\"colab-df-convert\" onclick=\"convertToInteractive('df-3240f152-fe02-4ab6-b298-9c159adf4147')\"\n",
              "            title=\"Convert this dataframe to an interactive table.\"\n",
              "            style=\"display:none;\">\n",
              "\n",
              "  <svg xmlns=\"http://www.w3.org/2000/svg\" height=\"24px\" viewBox=\"0 -960 960 960\">\n",
              "    <path d=\"M120-120v-720h720v720H120Zm60-500h600v-160H180v160Zm220 220h160v-160H400v160Zm0 220h160v-160H400v160ZM180-400h160v-160H180v160Zm440 0h160v-160H620v160ZM180-180h160v-160H180v160Zm440 0h160v-160H620v160Z\"/>\n",
              "  </svg>\n",
              "    </button>\n",
              "\n",
              "  <style>\n",
              "    .colab-df-container {\n",
              "      display:flex;\n",
              "      gap: 12px;\n",
              "    }\n",
              "\n",
              "    .colab-df-convert {\n",
              "      background-color: #E8F0FE;\n",
              "      border: none;\n",
              "      border-radius: 50%;\n",
              "      cursor: pointer;\n",
              "      display: none;\n",
              "      fill: #1967D2;\n",
              "      height: 32px;\n",
              "      padding: 0 0 0 0;\n",
              "      width: 32px;\n",
              "    }\n",
              "\n",
              "    .colab-df-convert:hover {\n",
              "      background-color: #E2EBFA;\n",
              "      box-shadow: 0px 1px 2px rgba(60, 64, 67, 0.3), 0px 1px 3px 1px rgba(60, 64, 67, 0.15);\n",
              "      fill: #174EA6;\n",
              "    }\n",
              "\n",
              "    .colab-df-buttons div {\n",
              "      margin-bottom: 4px;\n",
              "    }\n",
              "\n",
              "    [theme=dark] .colab-df-convert {\n",
              "      background-color: #3B4455;\n",
              "      fill: #D2E3FC;\n",
              "    }\n",
              "\n",
              "    [theme=dark] .colab-df-convert:hover {\n",
              "      background-color: #434B5C;\n",
              "      box-shadow: 0px 1px 3px 1px rgba(0, 0, 0, 0.15);\n",
              "      filter: drop-shadow(0px 1px 2px rgba(0, 0, 0, 0.3));\n",
              "      fill: #FFFFFF;\n",
              "    }\n",
              "  </style>\n",
              "\n",
              "    <script>\n",
              "      const buttonEl =\n",
              "        document.querySelector('#df-3240f152-fe02-4ab6-b298-9c159adf4147 button.colab-df-convert');\n",
              "      buttonEl.style.display =\n",
              "        google.colab.kernel.accessAllowed ? 'block' : 'none';\n",
              "\n",
              "      async function convertToInteractive(key) {\n",
              "        const element = document.querySelector('#df-3240f152-fe02-4ab6-b298-9c159adf4147');\n",
              "        const dataTable =\n",
              "          await google.colab.kernel.invokeFunction('convertToInteractive',\n",
              "                                                    [key], {});\n",
              "        if (!dataTable) return;\n",
              "\n",
              "        const docLinkHtml = 'Like what you see? Visit the ' +\n",
              "          '<a target=\"_blank\" href=https://colab.research.google.com/notebooks/data_table.ipynb>data table notebook</a>'\n",
              "          + ' to learn more about interactive tables.';\n",
              "        element.innerHTML = '';\n",
              "        dataTable['output_type'] = 'display_data';\n",
              "        await google.colab.output.renderOutput(dataTable, element);\n",
              "        const docLink = document.createElement('div');\n",
              "        docLink.innerHTML = docLinkHtml;\n",
              "        element.appendChild(docLink);\n",
              "      }\n",
              "    </script>\n",
              "  </div>\n",
              "\n",
              "\n",
              "<div id=\"df-337cba61-d1a8-41bf-97ea-fe43ac99145d\">\n",
              "  <button class=\"colab-df-quickchart\" onclick=\"quickchart('df-337cba61-d1a8-41bf-97ea-fe43ac99145d')\"\n",
              "            title=\"Suggest charts\"\n",
              "            style=\"display:none;\">\n",
              "\n",
              "<svg xmlns=\"http://www.w3.org/2000/svg\" height=\"24px\"viewBox=\"0 0 24 24\"\n",
              "     width=\"24px\">\n",
              "    <g>\n",
              "        <path d=\"M19 3H5c-1.1 0-2 .9-2 2v14c0 1.1.9 2 2 2h14c1.1 0 2-.9 2-2V5c0-1.1-.9-2-2-2zM9 17H7v-7h2v7zm4 0h-2V7h2v10zm4 0h-2v-4h2v4z\"/>\n",
              "    </g>\n",
              "</svg>\n",
              "  </button>\n",
              "\n",
              "<style>\n",
              "  .colab-df-quickchart {\n",
              "      --bg-color: #E8F0FE;\n",
              "      --fill-color: #1967D2;\n",
              "      --hover-bg-color: #E2EBFA;\n",
              "      --hover-fill-color: #174EA6;\n",
              "      --disabled-fill-color: #AAA;\n",
              "      --disabled-bg-color: #DDD;\n",
              "  }\n",
              "\n",
              "  [theme=dark] .colab-df-quickchart {\n",
              "      --bg-color: #3B4455;\n",
              "      --fill-color: #D2E3FC;\n",
              "      --hover-bg-color: #434B5C;\n",
              "      --hover-fill-color: #FFFFFF;\n",
              "      --disabled-bg-color: #3B4455;\n",
              "      --disabled-fill-color: #666;\n",
              "  }\n",
              "\n",
              "  .colab-df-quickchart {\n",
              "    background-color: var(--bg-color);\n",
              "    border: none;\n",
              "    border-radius: 50%;\n",
              "    cursor: pointer;\n",
              "    display: none;\n",
              "    fill: var(--fill-color);\n",
              "    height: 32px;\n",
              "    padding: 0;\n",
              "    width: 32px;\n",
              "  }\n",
              "\n",
              "  .colab-df-quickchart:hover {\n",
              "    background-color: var(--hover-bg-color);\n",
              "    box-shadow: 0 1px 2px rgba(60, 64, 67, 0.3), 0 1px 3px 1px rgba(60, 64, 67, 0.15);\n",
              "    fill: var(--button-hover-fill-color);\n",
              "  }\n",
              "\n",
              "  .colab-df-quickchart-complete:disabled,\n",
              "  .colab-df-quickchart-complete:disabled:hover {\n",
              "    background-color: var(--disabled-bg-color);\n",
              "    fill: var(--disabled-fill-color);\n",
              "    box-shadow: none;\n",
              "  }\n",
              "\n",
              "  .colab-df-spinner {\n",
              "    border: 2px solid var(--fill-color);\n",
              "    border-color: transparent;\n",
              "    border-bottom-color: var(--fill-color);\n",
              "    animation:\n",
              "      spin 1s steps(1) infinite;\n",
              "  }\n",
              "\n",
              "  @keyframes spin {\n",
              "    0% {\n",
              "      border-color: transparent;\n",
              "      border-bottom-color: var(--fill-color);\n",
              "      border-left-color: var(--fill-color);\n",
              "    }\n",
              "    20% {\n",
              "      border-color: transparent;\n",
              "      border-left-color: var(--fill-color);\n",
              "      border-top-color: var(--fill-color);\n",
              "    }\n",
              "    30% {\n",
              "      border-color: transparent;\n",
              "      border-left-color: var(--fill-color);\n",
              "      border-top-color: var(--fill-color);\n",
              "      border-right-color: var(--fill-color);\n",
              "    }\n",
              "    40% {\n",
              "      border-color: transparent;\n",
              "      border-right-color: var(--fill-color);\n",
              "      border-top-color: var(--fill-color);\n",
              "    }\n",
              "    60% {\n",
              "      border-color: transparent;\n",
              "      border-right-color: var(--fill-color);\n",
              "    }\n",
              "    80% {\n",
              "      border-color: transparent;\n",
              "      border-right-color: var(--fill-color);\n",
              "      border-bottom-color: var(--fill-color);\n",
              "    }\n",
              "    90% {\n",
              "      border-color: transparent;\n",
              "      border-bottom-color: var(--fill-color);\n",
              "    }\n",
              "  }\n",
              "</style>\n",
              "\n",
              "  <script>\n",
              "    async function quickchart(key) {\n",
              "      const quickchartButtonEl =\n",
              "        document.querySelector('#' + key + ' button');\n",
              "      quickchartButtonEl.disabled = true;  // To prevent multiple clicks.\n",
              "      quickchartButtonEl.classList.add('colab-df-spinner');\n",
              "      try {\n",
              "        const charts = await google.colab.kernel.invokeFunction(\n",
              "            'suggestCharts', [key], {});\n",
              "      } catch (error) {\n",
              "        console.error('Error during call to suggestCharts:', error);\n",
              "      }\n",
              "      quickchartButtonEl.classList.remove('colab-df-spinner');\n",
              "      quickchartButtonEl.classList.add('colab-df-quickchart-complete');\n",
              "    }\n",
              "    (() => {\n",
              "      let quickchartButtonEl =\n",
              "        document.querySelector('#df-337cba61-d1a8-41bf-97ea-fe43ac99145d button');\n",
              "      quickchartButtonEl.style.display =\n",
              "        google.colab.kernel.accessAllowed ? 'block' : 'none';\n",
              "    })();\n",
              "  </script>\n",
              "</div>\n",
              "\n",
              "    </div>\n",
              "  </div>\n"
            ],
            "application/vnd.google.colaboratory.intrinsic+json": {
              "type": "dataframe",
              "variable_name": "test_data",
              "summary": "{\n  \"name\": \"test_data\",\n  \"rows\": 267,\n  \"fields\": [\n    {\n      \"column\": \"Pclass\",\n      \"properties\": {\n        \"dtype\": \"number\",\n        \"std\": 0,\n        \"min\": 1,\n        \"max\": 3,\n        \"num_unique_values\": 3,\n        \"samples\": [\n          3,\n          2,\n          1\n        ],\n        \"semantic_type\": \"\",\n        \"description\": \"\"\n      }\n    },\n    {\n      \"column\": \"Sex\",\n      \"properties\": {\n        \"dtype\": \"number\",\n        \"std\": 0,\n        \"min\": 0,\n        \"max\": 1,\n        \"num_unique_values\": 2,\n        \"samples\": [\n          1,\n          0\n        ],\n        \"semantic_type\": \"\",\n        \"description\": \"\"\n      }\n    },\n    {\n      \"column\": \"Age\",\n      \"properties\": {\n        \"dtype\": \"number\",\n        \"std\": 1.0018779359264482,\n        \"min\": -2.3008592219278206,\n        \"max\": 3.1838060881772567,\n        \"num_unique_values\": 64,\n        \"samples\": [\n          -1.193296054702668,\n          -1.8185963608283715\n        ],\n        \"semantic_type\": \"\",\n        \"description\": \"\"\n      }\n    },\n    {\n      \"column\": \"SibSp\",\n      \"properties\": {\n        \"dtype\": \"number\",\n        \"std\": 0,\n        \"min\": 0,\n        \"max\": 4,\n        \"num_unique_values\": 5,\n        \"samples\": [\n          0,\n          4\n        ],\n        \"semantic_type\": \"\",\n        \"description\": \"\"\n      }\n    },\n    {\n      \"column\": \"Parch\",\n      \"properties\": {\n        \"dtype\": \"number\",\n        \"std\": 0,\n        \"min\": 0,\n        \"max\": 5,\n        \"num_unique_values\": 6,\n        \"samples\": [\n          1,\n          0\n        ],\n        \"semantic_type\": \"\",\n        \"description\": \"\"\n      }\n    },\n    {\n      \"column\": \"Fare\",\n      \"properties\": {\n        \"dtype\": \"number\",\n        \"std\": 1.0018779359264482,\n        \"min\": -0.707914539848629,\n        \"max\": 4.942233120862574,\n        \"num_unique_values\": 132,\n        \"samples\": [\n          0.1467409543275536,\n          0.9976278888443766\n        ],\n        \"semantic_type\": \"\",\n        \"description\": \"\"\n      }\n    },\n    {\n      \"column\": \"Embarked\",\n      \"properties\": {\n        \"dtype\": \"number\",\n        \"std\": 0,\n        \"min\": 0,\n        \"max\": 2,\n        \"num_unique_values\": 3,\n        \"samples\": [\n          1,\n          0\n        ],\n        \"semantic_type\": \"\",\n        \"description\": \"\"\n      }\n    },\n    {\n      \"column\": \"FamilySize\",\n      \"properties\": {\n        \"dtype\": \"number\",\n        \"std\": 1,\n        \"min\": 1,\n        \"max\": 7,\n        \"num_unique_values\": 7,\n        \"samples\": [\n          3,\n          1\n        ],\n        \"semantic_type\": \"\",\n        \"description\": \"\"\n      }\n    }\n  ]\n}"
            }
          },
          "metadata": {},
          "execution_count": 20
        }
      ]
    },
    {
      "cell_type": "code",
      "source": [
        "predictions = grid_search_svc.predict(test_data)\n",
        "\n",
        "from sklearn.metrics import classification_report, confusion_matrix\n",
        "print(classification_report(y, predictions))"
      ],
      "metadata": {
        "colab": {
          "base_uri": "https://localhost:8080/"
        },
        "id": "_tSxMZS0uaBe",
        "outputId": "b62b1208-2445-41e9-b982-a71645ba14a5"
      },
      "execution_count": 21,
      "outputs": [
        {
          "output_type": "stream",
          "name": "stdout",
          "text": [
            "              precision    recall  f1-score   support\n",
            "\n",
            "           0       0.79      0.91      0.85       157\n",
            "           1       0.84      0.65      0.73       110\n",
            "\n",
            "    accuracy                           0.81       267\n",
            "   macro avg       0.81      0.78      0.79       267\n",
            "weighted avg       0.81      0.81      0.80       267\n",
            "\n"
          ]
        }
      ]
    },
    {
      "cell_type": "markdown",
      "source": [
        "## Making Predictions"
      ],
      "metadata": {
        "id": "hAmwlFkdr3cY"
      }
    },
    {
      "cell_type": "code",
      "source": [
        "prediction  = grid_search_svc.predict([[1,1,0.1,1,0.05,1,1,2]])\n",
        "if prediction==0:\n",
        "  print(\"Did not survive\")\n",
        "else:\n",
        "  print(\"Survived\")"
      ],
      "metadata": {
        "id": "Clq_svq84N3P",
        "colab": {
          "base_uri": "https://localhost:8080/"
        },
        "outputId": "b0aea3f3-d31e-4b4c-e883-aa1ba849f4a5"
      },
      "execution_count": 22,
      "outputs": [
        {
          "output_type": "stream",
          "name": "stdout",
          "text": [
            "Survived\n"
          ]
        },
        {
          "output_type": "stream",
          "name": "stderr",
          "text": [
            "/usr/local/lib/python3.10/dist-packages/sklearn/base.py:439: UserWarning: X does not have valid feature names, but SVC was fitted with feature names\n",
            "  warnings.warn(\n"
          ]
        }
      ]
    },
    {
      "cell_type": "markdown",
      "source": [
        "# Conclusion\n",
        "\n",
        "While the specific problem of predicting survival on the Titanic is historical and not directly applicable to modern scenarios, the skills and techniques learned from working with this dataset are broadly applicable:\n",
        "\n",
        "1. **Customer Segmentation**: Understanding how to segment customers based on various attributes to predict their behavior.\n",
        "2. **Risk Assessment**: Assessing risk in various domains, such as finance (credit scoring) or healthcare (predicting patient outcomes).\n",
        "3. **Classification Problems**: Applying binary classification techniques to any problem where the goal is to predict one of two outcomes.\n",
        "4. **Data Cleaning and Preparation**: Learning how to handle missing values, outliers, and data inconsistencies.\n",
        "5. **Feature Engineering**: Creating new features that can help improve model performance.\n",
        "6. **Model Evaluation**: Using metrics like accuracy, precision, recall, and F1-score to evaluate model performance."
      ],
      "metadata": {
        "id": "wogCYGW_qt0w"
      }
    },
    {
      "cell_type": "markdown",
      "source": [
        "### **Author**\n",
        "Pavankumar Pandya"
      ],
      "metadata": {
        "id": "Vp2FwDfOrOCo"
      }
    },
    {
      "cell_type": "code",
      "source": [],
      "metadata": {
        "id": "v8-7vIgvJ38P"
      },
      "execution_count": 22,
      "outputs": []
    }
  ]
}
